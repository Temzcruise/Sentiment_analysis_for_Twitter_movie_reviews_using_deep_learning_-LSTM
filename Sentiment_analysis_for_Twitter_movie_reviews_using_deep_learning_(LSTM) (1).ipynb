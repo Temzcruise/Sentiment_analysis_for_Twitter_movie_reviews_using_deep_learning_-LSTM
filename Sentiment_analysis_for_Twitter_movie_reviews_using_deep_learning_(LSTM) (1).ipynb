{
  "nbformat": 4,
  "nbformat_minor": 0,
  "metadata": {
    "colab": {
      "name": "Sentiment analysis for Twitter movie reviews using deep learning (LSTM).ipynb",
      "provenance": [],
      "collapsed_sections": [],
      "toc_visible": true
    },
    "kernelspec": {
      "display_name": "Python 3",
      "name": "python3"
    },
    "language_info": {
      "name": "python"
    },
    "accelerator": "GPU"
  },
  "cells": [
    {
      "cell_type": "markdown",
      "metadata": {
        "id": "1ZRFYdEGH_Lv"
      },
      "source": [
        "**Importation the required modules**"
      ]
    },
    {
      "cell_type": "code",
      "metadata": {
        "colab": {
          "base_uri": "https://localhost:8080/"
        },
        "id": "gjQiTRumnJ9i",
        "outputId": "e7df840b-e293-44da-8c5f-44ee49e3c680"
      },
      "source": [
        "\n",
        "import tensorflow as tf\n",
        "import pandas as pd\n",
        "import numpy as np\n",
        "import matplotlib.pyplot as plt\n",
        "import re\n",
        "import os\n",
        "from sklearn.model_selection import train_test_split\n",
        "from tensorflow import keras\n",
        "from tensorflow.keras.preprocessing.text import Tokenizer\n",
        "from tensorflow.keras.preprocessing.sequence import pad_sequences \n",
        "from tensorflow.keras.models import Sequential     # the model\n",
        "from tensorflow.keras.layers import Input, Dense, Embedding, LSTM, GlobalMaxPooling1D\n",
        "from tensorflow.keras.models import Model\n",
        "from google.colab import drive\n",
        "import torch\n",
        "from torchvision import datasets, models, transforms\n",
        "\n",
        "#mount drive\n",
        "drive.mount(\"/content/gdrive\")"
      ],
      "execution_count": null,
      "outputs": [
        {
          "output_type": "stream",
          "name": "stdout",
          "text": [
            "Mounted at /content/gdrive\n"
          ]
        }
      ]
    },
    {
      "cell_type": "code",
      "metadata": {
        "id": "0XzzUYUm1MLK"
      },
      "source": [
        "df = pd.read_csv('/content/gdrive/My Drive/sentimentDataset.csv')"
      ],
      "execution_count": null,
      "outputs": []
    },
    {
      "cell_type": "code",
      "metadata": {
        "colab": {
          "base_uri": "https://localhost:8080/",
          "height": 359
        },
        "id": "1yudVpEXv9DD",
        "outputId": "0291093e-283e-4327-c131-1150c6456a8b"
      },
      "source": [
        "#remove breake tags in the reviews\n",
        "\n",
        "def remove_breaktags(text):\n",
        "  text = re.sub('<br\\s?\\/>|<br>', \" \", text)\n",
        "  return text\n",
        "\n",
        "df['review'] = df['review'].apply(remove_breaktags)\n",
        "df.head(10)"
      ],
      "execution_count": null,
      "outputs": [
        {
          "output_type": "execute_result",
          "data": {
            "text/html": [
              "<div>\n",
              "<style scoped>\n",
              "    .dataframe tbody tr th:only-of-type {\n",
              "        vertical-align: middle;\n",
              "    }\n",
              "\n",
              "    .dataframe tbody tr th {\n",
              "        vertical-align: top;\n",
              "    }\n",
              "\n",
              "    .dataframe thead th {\n",
              "        text-align: right;\n",
              "    }\n",
              "</style>\n",
              "<table border=\"1\" class=\"dataframe\">\n",
              "  <thead>\n",
              "    <tr style=\"text-align: right;\">\n",
              "      <th></th>\n",
              "      <th>review</th>\n",
              "      <th>sentiment</th>\n",
              "    </tr>\n",
              "  </thead>\n",
              "  <tbody>\n",
              "    <tr>\n",
              "      <th>0</th>\n",
              "      <td>One of the other reviewers has mentioned that ...</td>\n",
              "      <td>positive</td>\n",
              "    </tr>\n",
              "    <tr>\n",
              "      <th>1</th>\n",
              "      <td>A wonderful little production.   The filming t...</td>\n",
              "      <td>positive</td>\n",
              "    </tr>\n",
              "    <tr>\n",
              "      <th>2</th>\n",
              "      <td>I thought this was a wonderful way to spend ti...</td>\n",
              "      <td>positive</td>\n",
              "    </tr>\n",
              "    <tr>\n",
              "      <th>3</th>\n",
              "      <td>Basically there's a family where a little boy ...</td>\n",
              "      <td>negative</td>\n",
              "    </tr>\n",
              "    <tr>\n",
              "      <th>4</th>\n",
              "      <td>Petter Mattei's \"Love in the Time of Money\" is...</td>\n",
              "      <td>positive</td>\n",
              "    </tr>\n",
              "    <tr>\n",
              "      <th>5</th>\n",
              "      <td>Probably my all-time favorite movie, a story o...</td>\n",
              "      <td>positive</td>\n",
              "    </tr>\n",
              "    <tr>\n",
              "      <th>6</th>\n",
              "      <td>I sure would like to see a resurrection of a u...</td>\n",
              "      <td>positive</td>\n",
              "    </tr>\n",
              "    <tr>\n",
              "      <th>7</th>\n",
              "      <td>This show was an amazing, fresh &amp; innovative i...</td>\n",
              "      <td>negative</td>\n",
              "    </tr>\n",
              "    <tr>\n",
              "      <th>8</th>\n",
              "      <td>Encouraged by the positive comments about this...</td>\n",
              "      <td>negative</td>\n",
              "    </tr>\n",
              "    <tr>\n",
              "      <th>9</th>\n",
              "      <td>If you like original gut wrenching laughter yo...</td>\n",
              "      <td>positive</td>\n",
              "    </tr>\n",
              "  </tbody>\n",
              "</table>\n",
              "</div>"
            ],
            "text/plain": [
              "                                              review sentiment\n",
              "0  One of the other reviewers has mentioned that ...  positive\n",
              "1  A wonderful little production.   The filming t...  positive\n",
              "2  I thought this was a wonderful way to spend ti...  positive\n",
              "3  Basically there's a family where a little boy ...  negative\n",
              "4  Petter Mattei's \"Love in the Time of Money\" is...  positive\n",
              "5  Probably my all-time favorite movie, a story o...  positive\n",
              "6  I sure would like to see a resurrection of a u...  positive\n",
              "7  This show was an amazing, fresh & innovative i...  negative\n",
              "8  Encouraged by the positive comments about this...  negative\n",
              "9  If you like original gut wrenching laughter yo...  positive"
            ]
          },
          "metadata": {},
          "execution_count": 3
        }
      ]
    },
    {
      "cell_type": "code",
      "metadata": {
        "colab": {
          "base_uri": "https://localhost:8080/",
          "height": 359
        },
        "id": "moAXGsXapu5B",
        "outputId": "74394022-df82-4311-b5ce-756ea7351ad0"
      },
      "source": [
        "# convert sentiment column from word to integer \n",
        "# df['sentiment'].apply(toSentimentInteger)\n",
        "df['sentiment'] = df['sentiment'].apply(lambda x : 1 if x == \"positive\" else 0)\n",
        "df.head(10)"
      ],
      "execution_count": null,
      "outputs": [
        {
          "output_type": "execute_result",
          "data": {
            "text/html": [
              "<div>\n",
              "<style scoped>\n",
              "    .dataframe tbody tr th:only-of-type {\n",
              "        vertical-align: middle;\n",
              "    }\n",
              "\n",
              "    .dataframe tbody tr th {\n",
              "        vertical-align: top;\n",
              "    }\n",
              "\n",
              "    .dataframe thead th {\n",
              "        text-align: right;\n",
              "    }\n",
              "</style>\n",
              "<table border=\"1\" class=\"dataframe\">\n",
              "  <thead>\n",
              "    <tr style=\"text-align: right;\">\n",
              "      <th></th>\n",
              "      <th>review</th>\n",
              "      <th>sentiment</th>\n",
              "    </tr>\n",
              "  </thead>\n",
              "  <tbody>\n",
              "    <tr>\n",
              "      <th>0</th>\n",
              "      <td>One of the other reviewers has mentioned that ...</td>\n",
              "      <td>1</td>\n",
              "    </tr>\n",
              "    <tr>\n",
              "      <th>1</th>\n",
              "      <td>A wonderful little production.   The filming t...</td>\n",
              "      <td>1</td>\n",
              "    </tr>\n",
              "    <tr>\n",
              "      <th>2</th>\n",
              "      <td>I thought this was a wonderful way to spend ti...</td>\n",
              "      <td>1</td>\n",
              "    </tr>\n",
              "    <tr>\n",
              "      <th>3</th>\n",
              "      <td>Basically there's a family where a little boy ...</td>\n",
              "      <td>0</td>\n",
              "    </tr>\n",
              "    <tr>\n",
              "      <th>4</th>\n",
              "      <td>Petter Mattei's \"Love in the Time of Money\" is...</td>\n",
              "      <td>1</td>\n",
              "    </tr>\n",
              "    <tr>\n",
              "      <th>5</th>\n",
              "      <td>Probably my all-time favorite movie, a story o...</td>\n",
              "      <td>1</td>\n",
              "    </tr>\n",
              "    <tr>\n",
              "      <th>6</th>\n",
              "      <td>I sure would like to see a resurrection of a u...</td>\n",
              "      <td>1</td>\n",
              "    </tr>\n",
              "    <tr>\n",
              "      <th>7</th>\n",
              "      <td>This show was an amazing, fresh &amp; innovative i...</td>\n",
              "      <td>0</td>\n",
              "    </tr>\n",
              "    <tr>\n",
              "      <th>8</th>\n",
              "      <td>Encouraged by the positive comments about this...</td>\n",
              "      <td>0</td>\n",
              "    </tr>\n",
              "    <tr>\n",
              "      <th>9</th>\n",
              "      <td>If you like original gut wrenching laughter yo...</td>\n",
              "      <td>1</td>\n",
              "    </tr>\n",
              "  </tbody>\n",
              "</table>\n",
              "</div>"
            ],
            "text/plain": [
              "                                              review  sentiment\n",
              "0  One of the other reviewers has mentioned that ...          1\n",
              "1  A wonderful little production.   The filming t...          1\n",
              "2  I thought this was a wonderful way to spend ti...          1\n",
              "3  Basically there's a family where a little boy ...          0\n",
              "4  Petter Mattei's \"Love in the Time of Money\" is...          1\n",
              "5  Probably my all-time favorite movie, a story o...          1\n",
              "6  I sure would like to see a resurrection of a u...          1\n",
              "7  This show was an amazing, fresh & innovative i...          0\n",
              "8  Encouraged by the positive comments about this...          0\n",
              "9  If you like original gut wrenching laughter yo...          1"
            ]
          },
          "metadata": {},
          "execution_count": 4
        }
      ]
    },
    {
      "cell_type": "markdown",
      "metadata": {
        "id": "ybys1KCqIaTo"
      },
      "source": [
        "**Splitting the data into training and test data**\n",
        "\n"
      ]
    },
    {
      "cell_type": "code",
      "metadata": {
        "colab": {
          "base_uri": "https://localhost:8080/"
        },
        "id": "Q5HaSzfZye1Q",
        "outputId": "4f2cb961-5eb5-483c-b928-ebddb34be413"
      },
      "source": [
        "from sklearn.model_selection import train_test_split\n",
        "\n",
        "x_train, x_test, y_train, y_test = train_test_split(df['review'].values, df['sentiment'].values, test_size=0.2)\n",
        "print(\"Train\")\n",
        "print(\"Review: \", x_train[0])\n",
        "print('sentiment: ', y_train[0])\n",
        "print(\"Test\")\n",
        "print(\"Review: \", x_test[0])\n",
        "print('sentiment: ', y_test[0])"
      ],
      "execution_count": null,
      "outputs": [
        {
          "output_type": "stream",
          "name": "stdout",
          "text": [
            "Train\n",
            "Review:  After reading a biography on the last Russian Tzar (Nicholas II), and his failure to secure the army's support, I decided to give this film a try.  I watched it with a completely open mind, not knowing anything about it (except its reputation).  These are the things that impressed me the most.  1) The shots of battleships, and the soldiers used as extras. More than once I stopped to think \"if this was done in this time and place, 80% of this would have been computer-generated\".  2) The Realism in it. From the maggot-infested meat to the shot of the sailor with his candle and the legend \"Killed for a bowl of soup\", this movie makes no concessions to the PC cause (which, thankfully, hadn't been invented yet).  3) The slow descent into madness of the Odessa Steps sequence. From the first shot, when the limbless man appears, you get the idea something might be wrong; since the overall shots are composed, though, you end up feeling comfortable in your surroundings. Then an amputee appears, and people start falling in dramatic poses. Still, the shots are composed... until the Cossacks appear into scene, and the incredible shot juxtapositions appear. This scene is easily worth the price of admission.  4) The fact that this movie is 100% unadulterated propaganda. Then again, when Rambo fought in Afghanistan he also was having something to do with \"propaganda\"; only a different kind.  Overall: a film marred by a bit of a slow narrative. Nevertheless, Metropolis, The Cabinet of Dr. Caligari and this movie are perfect examples of inventive, edgy movies that are still remembered for their merits today. They really make modern movies look boring and repetitive.\n",
            "sentiment:  1\n",
            "Test\n",
            "Review:  Those reviewers who have complained that this movie lacks plausibility or has problems of construction are missing the point. This is a wonderfully camp romance, with plenty of Play, gypsies! Dance, gypsies! music, that both sends up exotic love stories and celebrates them. Buttoned-up Ray Milland makes an amusing foil for a Dietrich with black hair, tattered scarves, and tons of jewelry. The character's eagerness to feed Milland and look after him more closely resembles the good German hausfrau Dietrich was off the set than her mannered vamp roles. Censorship being in force, it's made clear that they share a caravan on platonic terms only, with Milland fighting off Dietrich's advances with a determination remarkable for a heterosexual bachelor who might be killed any day. His only excuse is that she smells, so perhaps a stuffy, fastidious Englishman might indeed be put off.  In the small role of Milland's young companion on his secret mission, Bruce Lester adds a note of camp of a different kind. We are told at the beginning that he hero-worships Milland, and indeed he rather fawns on him. When, after they are separated, he meets Milland, now transformed into a brown-skinned gypsy with a shirt open to the waist, his glowing appreciation of the disguise even further suggests that not only Dietrich is romantically infatuated with Milland.  Despite the wonderfully improbable characters and sequence of events, the growing love of Milland for Dietrich and his acceptance of the non-rational aspects of life is rather touching. And when, on their last night alone before he escapes, he says that each of them now contain half of the other, the two have become one, and then darkness falls, I think we can assume that the censor decided to give them a break! One goof--at the beginning, Milland, who is supposed to be English, refers to a lieutenant, using the American pronunciation. (The English say \"leftenant.\") Since Milland was British, he must have been saying it that way because the American movie-makers feared that American audiences would be distracted and confused by the British style.\n",
            "sentiment:  1\n"
          ]
        }
      ]
    },
    {
      "cell_type": "code",
      "metadata": {
        "colab": {
          "base_uri": "https://localhost:8080/"
        },
        "id": "rfJqbAl6133K",
        "outputId": "fb726a0d-9be1-480d-a599-264d9a7ea34c"
      },
      "source": [
        "# Conversion of Strings to integers using tokenizer\n",
        "maximum_vocab = 5000000\n",
        "tokenizer = Tokenizer(num_words=maximum_vocab)\n",
        "tokenizer.fit_on_texts(x_train)\n",
        "\n",
        "#check word index and vocab of dataset\n",
        "wordIndex = tokenizer.word_index\n",
        "vocab_size = len(wordIndex)\n",
        "print(\"Size of dataset vocabulary: \", vocab_size)\n",
        "\n",
        "#convert train and test sequences into seqences\n",
        "train_sequence = tokenizer.texts_to_sequences(x_train)\n",
        "test_sequence = tokenizer.texts_to_sequences(x_test)\n",
        "print(\"Training sequence: \", train_sequence[0])\n",
        "print(\"Testing sequence: \", test_sequence[0])\n",
        "\n",
        "# Pad sequences to get equal length\n",
        "# padding the traing sequence\n",
        "pad_train = pad_sequences(train_sequence)\n",
        "T = pad_train.shape[1]\n",
        "print('The length of training sequence is: ', T)\n",
        "\n",
        "# padding the test sequence\n",
        "pad_test = pad_sequences(test_sequence, maxlen=T)\n",
        "print('The length of testing sequence is: ', pad_test.shape[1])"
      ],
      "execution_count": null,
      "outputs": [
        {
          "output_type": "stream",
          "name": "stdout",
          "text": [
            "Size of dataset vocabulary:  112343\n",
            "Training sequence:  [98, 880, 3, 4784, 19, 1, 234, 1489, 50953, 4839, 1517, 2, 23, 2097, 5, 8073, 1, 29647, 1445, 9, 879, 5, 196, 10, 18, 3, 354, 9, 284, 8, 14, 3, 337, 834, 324, 20, 1353, 230, 41, 8, 555, 91, 2613, 131, 22, 1, 176, 11, 1490, 67, 1, 87, 303, 1, 638, 4, 50954, 2, 1, 1265, 333, 13, 2302, 50, 71, 281, 9, 2286, 5, 100, 42, 10, 12, 223, 7, 10, 54, 2, 273, 3169, 4, 10, 57, 24, 75, 1281, 4522, 231, 1, 1820, 7, 8, 35, 1, 19390, 11751, 3417, 5, 1, 318, 4, 1, 6023, 14, 23, 7751, 2, 1, 1877, 525, 15, 3, 6884, 4, 6254, 10, 16, 163, 53, 21782, 5, 1, 5905, 1129, 59, 2501, 1844, 75, 5301, 243, 331, 1, 548, 5198, 82, 2901, 4, 1, 13144, 2954, 709, 35, 1, 84, 318, 49, 1, 38495, 127, 743, 21, 73, 1, 321, 136, 235, 25, 358, 233, 1, 441, 638, 22, 4120, 151, 21, 126, 52, 558, 3883, 7, 125, 5742, 92, 31, 27815, 743, 2, 81, 372, 1515, 7, 941, 6614, 129, 1, 638, 22, 4120, 370, 1, 38496, 951, 82, 128, 2, 1, 1066, 318, 27816, 951, 10, 128, 6, 722, 278, 1, 1857, 4, 7318, 452, 1, 191, 11, 10, 16, 6, 1205, 16637, 2318, 92, 171, 49, 5434, 4507, 7, 6162, 27, 80, 12, 263, 136, 5, 76, 14, 2318, 60, 3, 275, 239, 441, 3, 18, 9675, 30, 3, 224, 4, 3, 548, 1370, 2148, 10235, 1, 13989, 4, 784, 20125, 2, 10, 16, 22, 395, 2688, 4, 4325, 4785, 96, 11, 22, 129, 2113, 15, 64, 5651, 619, 32, 61, 93, 686, 96, 164, 347, 2, 3405]\n",
            "Testing sequence:  [144, 2086, 34, 24, 7313, 11, 10, 16, 1551, 10420, 37, 44, 697, 4, 4903, 22, 1026, 1, 215, 10, 6, 3, 1740, 1261, 895, 14, 987, 4, 291, 14268, 844, 14268, 204, 11, 193, 3203, 52, 4608, 112, 560, 2, 13814, 90, 105772, 52, 1395, 9090, 163, 31, 1170, 7475, 15, 3, 9401, 14, 314, 1114, 21322, 45084, 2, 3482, 4, 9012, 1, 1765, 19018, 5, 5331, 9090, 2, 164, 98, 85, 50, 3196, 4065, 1, 48, 1050, 98743, 9401, 12, 121, 1, 269, 71, 39, 7258, 12336, 594, 8518, 108, 7, 1080, 43, 89, 740, 11, 32, 1497, 3, 18667, 19, 20684, 1293, 60, 14, 9090, 989, 121, 29409, 7696, 14, 3, 6203, 1785, 15, 3, 10763, 7399, 34, 235, 25, 525, 99, 252, 23, 60, 1387, 6, 11, 58, 13004, 33, 387, 3, 12396, 29391, 12626, 235, 872, 25, 271, 121, 7, 1, 396, 214, 4, 56835, 184, 4288, 19, 23, 1049, 1870, 1476, 7397, 1547, 3, 868, 4, 1261, 4, 3, 275, 239, 70, 22, 563, 29, 1, 451, 11, 27, 608, 18954, 9090, 2, 872, 27, 246, 19, 85, 49, 98, 32, 22, 5766, 27, 922, 9090, 145, 5338, 82, 3, 1888, 10799, 6109, 14, 3, 3612, 834, 5, 1, 10756, 23, 6164, 4658, 4, 1, 5973, 55, 1092, 3115, 11, 20, 60, 9401, 6, 13415, 14465, 14, 9090, 465, 1, 1740, 6740, 101, 2, 709, 4, 716, 1, 1841, 112, 4, 9090, 15, 9401, 2, 23, 5620, 4, 1, 685, 7548, 1364, 4, 113, 6, 246, 1406, 2, 49, 19, 64, 234, 317, 627, 156, 27, 2924, 27, 543, 11, 254, 4, 90, 145, 2807, 304, 4, 1, 79, 1, 104, 24, 426, 26, 2, 92, 2358, 766, 9, 100, 70, 66, 2231, 11, 1, 17833, 879, 5, 196, 90, 3, 1012, 26, 9653, 29, 1, 451, 9090, 34, 6, 435, 5, 25, 624, 5935, 5, 3, 7723, 783, 1, 280, 17728, 1, 624, 130, 233, 9090, 12, 712, 27, 205, 24, 75, 635, 8, 11, 94, 83, 1, 280, 16, 1251, 9478, 11, 280, 1260, 57, 25, 7131, 2, 1473, 30, 1, 712, 397]\n",
            "The length of training sequence is:  2473\n",
            "The length of testing sequence is:  2473\n"
          ]
        }
      ]
    },
    {
      "cell_type": "markdown",
      "metadata": {
        "id": "6uz6mTCKJIjz"
      },
      "source": [
        "**Model defining/building**"
      ]
    },
    {
      "cell_type": "code",
      "metadata": {
        "colab": {
          "base_uri": "https://localhost:8080/"
        },
        "id": "SEaeNBta9B_O",
        "outputId": "d9d4e41c-5185-4eb8-cb75-dc3ad4de8578"
      },
      "source": [
        "\n",
        "def get_max_length():\n",
        "    review_length = []\n",
        "    for review in x_train:\n",
        "        review_length.append(len(review))\n",
        "\n",
        "    return int(np.ceil(np.mean(review_length)))\n",
        "max_length = get_max_length()\n",
        "\n",
        "def create_model():\n",
        "  # ARCHITECTURE\n",
        "  EMBED_DIM = 32\n",
        "  LSTM_OUT = 64\n",
        "\n",
        "  model = Sequential()\n",
        "  model.add(Embedding(vocab_size+1, EMBED_DIM, input_length = max_length))\n",
        "  model.add(LSTM(LSTM_OUT))\n",
        "  model.add(Dense(1, activation='sigmoid'))\n",
        "  model.compile(optimizer = 'adam', loss = 'binary_crossentropy', metrics = ['accuracy'])\n",
        "\n",
        "  return model\n",
        "\n",
        "  # Create a basic model instance\n",
        "model = create_model()\n",
        "\n",
        "# Display the model's architecture\n",
        "model.summary()\n",
        "\n"
      ],
      "execution_count": null,
      "outputs": [
        {
          "output_type": "stream",
          "name": "stdout",
          "text": [
            "Model: \"sequential\"\n",
            "_________________________________________________________________\n",
            "Layer (type)                 Output Shape              Param #   \n",
            "=================================================================\n",
            "embedding (Embedding)        (None, 1291, 32)          3595008   \n",
            "_________________________________________________________________\n",
            "lstm (LSTM)                  (None, 64)                24832     \n",
            "_________________________________________________________________\n",
            "dense (Dense)                (None, 1)                 65        \n",
            "=================================================================\n",
            "Total params: 3,619,905\n",
            "Trainable params: 3,619,905\n",
            "Non-trainable params: 0\n",
            "_________________________________________________________________\n"
          ]
        }
      ]
    },
    {
      "cell_type": "code",
      "metadata": {
        "colab": {
          "base_uri": "https://localhost:8080/"
        },
        "id": "sWSkYf_mhVrL",
        "outputId": "3563cd6f-02d8-4d02-8f96-ee6dc238f768"
      },
      "source": [
        "#Saving of checkpoints\n",
        "checkpoint_path = \"training_1/cp.ckpt\"\n",
        "checkpoint_dir = os.path.dirname(checkpoint_path)\n",
        "\n",
        "# Create a callback that saves the model's weights\n",
        "cp_callback = tf.keras.callbacks.ModelCheckpoint(filepath=checkpoint_path, save_weights_only=True, verbose=1)\n",
        "\n",
        "# training the model\n",
        "model.fit(pad_train, y_train, batch_size = 128, epochs = 2, callbacks=[cp_callback])"
      ],
      "execution_count": null,
      "outputs": [
        {
          "output_type": "stream",
          "name": "stdout",
          "text": [
            "Epoch 1/2\n",
            "WARNING:tensorflow:Model was constructed with shape (None, 1291) for input KerasTensor(type_spec=TensorSpec(shape=(None, 1291), dtype=tf.float32, name='embedding_1_input'), name='embedding_1_input', description=\"created by layer 'embedding_1_input'\"), but it was called on an input with incompatible shape (None, 2473).\n"
          ]
        },
        {
          "output_type": "stream",
          "name": "stderr",
          "text": [
            "WARNING:tensorflow:Model was constructed with shape (None, 1291) for input KerasTensor(type_spec=TensorSpec(shape=(None, 1291), dtype=tf.float32, name='embedding_1_input'), name='embedding_1_input', description=\"created by layer 'embedding_1_input'\"), but it was called on an input with incompatible shape (None, 2473).\n"
          ]
        },
        {
          "output_type": "stream",
          "name": "stdout",
          "text": [
            "WARNING:tensorflow:Model was constructed with shape (None, 1291) for input KerasTensor(type_spec=TensorSpec(shape=(None, 1291), dtype=tf.float32, name='embedding_1_input'), name='embedding_1_input', description=\"created by layer 'embedding_1_input'\"), but it was called on an input with incompatible shape (None, 2473).\n"
          ]
        },
        {
          "output_type": "stream",
          "name": "stderr",
          "text": [
            "WARNING:tensorflow:Model was constructed with shape (None, 1291) for input KerasTensor(type_spec=TensorSpec(shape=(None, 1291), dtype=tf.float32, name='embedding_1_input'), name='embedding_1_input', description=\"created by layer 'embedding_1_input'\"), but it was called on an input with incompatible shape (None, 2473).\n"
          ]
        },
        {
          "output_type": "stream",
          "name": "stdout",
          "text": [
            "313/313 [==============================] - 86s 267ms/step - loss: 0.1908 - accuracy: 0.9299\n",
            "\n",
            "Epoch 00001: saving model to training_1/cp.ckpt\n",
            "Epoch 2/2\n",
            "313/313 [==============================] - 84s 267ms/step - loss: 0.1085 - accuracy: 0.9629\n",
            "\n",
            "Epoch 00002: saving model to training_1/cp.ckpt\n"
          ]
        },
        {
          "output_type": "execute_result",
          "data": {
            "text/plain": [
              "<keras.callbacks.History at 0x7f283684d950>"
            ]
          },
          "metadata": {},
          "execution_count": 20
        }
      ]
    },
    {
      "cell_type": "code",
      "metadata": {
        "colab": {
          "base_uri": "https://localhost:8080/"
        },
        "id": "PgfcpHaSfIfC",
        "outputId": "d8ac50fd-3b1c-4fe8-9416-bbf29dc9b5f1"
      },
      "source": [
        "os.listdir(checkpoint_dir)"
      ],
      "execution_count": null,
      "outputs": [
        {
          "output_type": "execute_result",
          "data": {
            "text/plain": [
              "['cp.ckpt.data-00000-of-00001', 'cp.ckpt.index', 'checkpoint']"
            ]
          },
          "metadata": {},
          "execution_count": 9
        }
      ]
    },
    {
      "cell_type": "markdown",
      "metadata": {
        "id": "djLAaTLzJvsY"
      },
      "source": [
        "**Only run this cell if loading a previously saved model with a checkpoint**\n",
        "\n",
        "---\n",
        "\n"
      ]
    },
    {
      "cell_type": "code",
      "metadata": {
        "colab": {
          "base_uri": "https://localhost:8080/"
        },
        "id": "Pgl7UdeCbmQ3",
        "outputId": "c3d9c572-29b6-4501-c57a-1a28a1aec98c"
      },
      "source": [
        "\n",
        "# Create a basic model instance\n",
        "model = create_model()\n",
        "\n",
        "# Loads the weights\n",
        "model.load_weights(checkpoint_path)\n",
        "\n",
        "# Re-evaluate the model\n",
        "loss, acc = model.evaluate(pad_test, y_test, verbose=1)\n",
        "print(\"Restored model, accuracy: {:5.2f}%\".format(100 * acc))"
      ],
      "execution_count": null,
      "outputs": [
        {
          "output_type": "stream",
          "name": "stdout",
          "text": [
            "WARNING:tensorflow:Model was constructed with shape (None, 1291) for input KerasTensor(type_spec=TensorSpec(shape=(None, 1291), dtype=tf.float32, name='embedding_2_input'), name='embedding_2_input', description=\"created by layer 'embedding_2_input'\"), but it was called on an input with incompatible shape (None, 2473).\n"
          ]
        },
        {
          "output_type": "stream",
          "name": "stderr",
          "text": [
            "WARNING:tensorflow:Model was constructed with shape (None, 1291) for input KerasTensor(type_spec=TensorSpec(shape=(None, 1291), dtype=tf.float32, name='embedding_2_input'), name='embedding_2_input', description=\"created by layer 'embedding_2_input'\"), but it was called on an input with incompatible shape (None, 2473).\n"
          ]
        },
        {
          "output_type": "stream",
          "name": "stdout",
          "text": [
            "WARNING:tensorflow:Model was constructed with shape (None, 1291) for input KerasTensor(type_spec=TensorSpec(shape=(None, 1291), dtype=tf.float32, name='embedding_2_input'), name='embedding_2_input', description=\"created by layer 'embedding_2_input'\"), but it was called on an input with incompatible shape (None, 2473).\n"
          ]
        },
        {
          "output_type": "stream",
          "name": "stderr",
          "text": [
            "WARNING:tensorflow:Model was constructed with shape (None, 1291) for input KerasTensor(type_spec=TensorSpec(shape=(None, 1291), dtype=tf.float32, name='embedding_2_input'), name='embedding_2_input', description=\"created by layer 'embedding_2_input'\"), but it was called on an input with incompatible shape (None, 2473).\n"
          ]
        },
        {
          "output_type": "stream",
          "name": "stdout",
          "text": [
            "313/313 [==============================] - 43s 136ms/step - loss: 0.3119 - accuracy: 0.8928\n",
            "Restored model, accuracy: 89.28%\n"
          ]
        }
      ]
    },
    {
      "cell_type": "code",
      "metadata": {
        "id": "BtHKYSWpQWY7"
      },
      "source": [
        "# Save the weights\n",
        "model.save_weights('./checkpoints/my_checkpoint')"
      ],
      "execution_count": null,
      "outputs": []
    },
    {
      "cell_type": "code",
      "metadata": {
        "colab": {
          "base_uri": "https://localhost:8080/"
        },
        "id": "VlvMHUIJzm_E",
        "outputId": "00b9ea3e-0912-4afd-b706-b8c035721c0f"
      },
      "source": [
        "# Save the entire model as a SavedModel.\n",
        "!mkdir -p saved_model\n",
        "model.save('saved_model/my_model')"
      ],
      "execution_count": null,
      "outputs": [
        {
          "output_type": "stream",
          "name": "stderr",
          "text": [
            "WARNING:absl:Found untraced functions such as lstm_cell_layer_call_and_return_conditional_losses, lstm_cell_layer_call_fn, lstm_cell_layer_call_fn, lstm_cell_layer_call_and_return_conditional_losses, lstm_cell_layer_call_and_return_conditional_losses while saving (showing 5 of 5). These functions will not be directly callable after loading.\n"
          ]
        },
        {
          "output_type": "stream",
          "name": "stdout",
          "text": [
            "INFO:tensorflow:Assets written to: saved_model/my_model/assets\n"
          ]
        },
        {
          "output_type": "stream",
          "name": "stderr",
          "text": [
            "INFO:tensorflow:Assets written to: saved_model/my_model/assets\n"
          ]
        }
      ]
    },
    {
      "cell_type": "markdown",
      "metadata": {
        "id": "9741KFDAKP2o"
      },
      "source": [
        "**Run cell if saved model exists else skip to the next**"
      ]
    },
    {
      "cell_type": "code",
      "metadata": {
        "id": "VB7YurdyRH1p"
      },
      "source": [
        "new_model = tf.keras.models.load_model('saved_model/my_model')\n",
        "\n",
        "# Check its architecture\n",
        "new_model.summary()"
      ],
      "execution_count": null,
      "outputs": []
    },
    {
      "cell_type": "code",
      "metadata": {
        "colab": {
          "base_uri": "https://localhost:8080/"
        },
        "id": "cHfdLmnxOTko",
        "outputId": "249d2d8c-589d-4d08-dcd1-5bfa4b58f7fe"
      },
      "source": [
        "# Re-evaluate the model\n",
        "loss, acc = model.evaluate(pad_test, y_test, verbose=1)\n",
        "print(\"Restored model, accuracy: {:5.2f}%\".format(100 * acc))"
      ],
      "execution_count": null,
      "outputs": [
        {
          "output_type": "stream",
          "name": "stdout",
          "text": [
            "WARNING:tensorflow:Model was constructed with shape (None, 1291) for input KerasTensor(type_spec=TensorSpec(shape=(None, 1291), dtype=tf.float32, name='embedding_input'), name='embedding_input', description=\"created by layer 'embedding_input'\"), but it was called on an input with incompatible shape (None, 2473).\n"
          ]
        },
        {
          "output_type": "stream",
          "name": "stderr",
          "text": [
            "WARNING:tensorflow:Model was constructed with shape (None, 1291) for input KerasTensor(type_spec=TensorSpec(shape=(None, 1291), dtype=tf.float32, name='embedding_input'), name='embedding_input', description=\"created by layer 'embedding_input'\"), but it was called on an input with incompatible shape (None, 2473).\n"
          ]
        },
        {
          "output_type": "stream",
          "name": "stdout",
          "text": [
            "313/313 [==============================] - 43s 136ms/step - loss: 0.3210 - accuracy: 0.8644\n",
            "Restored model, accuracy: 86.44%\n"
          ]
        }
      ]
    },
    {
      "cell_type": "code",
      "metadata": {
        "colab": {
          "base_uri": "https://localhost:8080/",
          "height": 214
        },
        "id": "r5i_xpQ4cfV7",
        "outputId": "f38c077d-dd4e-4e4e-c897-06bed1ea22e3"
      },
      "source": [
        "# Evaluating the model\n",
        "# plotting the loss of the model\n",
        "plt.plot(model.history['loss'], label='loss')\n",
        "plt.legend()"
      ],
      "execution_count": null,
      "outputs": [
        {
          "output_type": "error",
          "ename": "TypeError",
          "evalue": "ignored",
          "traceback": [
            "\u001b[0;31m---------------------------------------------------------------------------\u001b[0m",
            "\u001b[0;31mTypeError\u001b[0m                                 Traceback (most recent call last)",
            "\u001b[0;32m<ipython-input-23-c6cc52288bff>\u001b[0m in \u001b[0;36m<module>\u001b[0;34m()\u001b[0m\n\u001b[1;32m      1\u001b[0m \u001b[0;31m# Evaluating the model\u001b[0m\u001b[0;34m\u001b[0m\u001b[0;34m\u001b[0m\u001b[0;34m\u001b[0m\u001b[0m\n\u001b[1;32m      2\u001b[0m \u001b[0;31m# plotting the loss of the model\u001b[0m\u001b[0;34m\u001b[0m\u001b[0;34m\u001b[0m\u001b[0;34m\u001b[0m\u001b[0m\n\u001b[0;32m----> 3\u001b[0;31m \u001b[0mplt\u001b[0m\u001b[0;34m.\u001b[0m\u001b[0mplot\u001b[0m\u001b[0;34m(\u001b[0m\u001b[0mmodel\u001b[0m\u001b[0;34m.\u001b[0m\u001b[0mhistory\u001b[0m\u001b[0;34m[\u001b[0m\u001b[0;34m'loss'\u001b[0m\u001b[0;34m]\u001b[0m\u001b[0;34m,\u001b[0m \u001b[0mlabel\u001b[0m\u001b[0;34m=\u001b[0m\u001b[0;34m'loss'\u001b[0m\u001b[0;34m)\u001b[0m\u001b[0;34m\u001b[0m\u001b[0;34m\u001b[0m\u001b[0m\n\u001b[0m\u001b[1;32m      4\u001b[0m \u001b[0mplt\u001b[0m\u001b[0;34m.\u001b[0m\u001b[0mlegend\u001b[0m\u001b[0;34m(\u001b[0m\u001b[0;34m)\u001b[0m\u001b[0;34m\u001b[0m\u001b[0;34m\u001b[0m\u001b[0m\n",
            "\u001b[0;31mTypeError\u001b[0m: 'History' object is not subscriptable"
          ]
        }
      ]
    },
    {
      "cell_type": "code",
      "metadata": {
        "id": "gOWjYsdycqdt"
      },
      "source": [
        "# plotting the accuracy of the model\n",
        "plt.plot(r.history['accuracy'], label= 'accuracy')\n",
        "plt.legend()"
      ],
      "execution_count": null,
      "outputs": []
    },
    {
      "cell_type": "markdown",
      "metadata": {
        "id": "7RZc7roQKsVk"
      },
      "source": [
        "**Install Demoji package for the decoding of meanings from emojis**"
      ]
    },
    {
      "cell_type": "code",
      "metadata": {
        "colab": {
          "base_uri": "https://localhost:8080/"
        },
        "id": "RL48hfhN3bTg",
        "outputId": "09d44814-1036-46ce-8251-dc89ec2b5b0c"
      },
      "source": [
        "!pip install demoji\n"
      ],
      "execution_count": null,
      "outputs": [
        {
          "output_type": "stream",
          "name": "stdout",
          "text": [
            "Collecting demoji\n",
            "  Downloading demoji-1.1.0-py3-none-any.whl (42 kB)\n",
            "\u001b[?25l\r\u001b[K     |███████▋                        | 10 kB 20.6 MB/s eta 0:00:01\r\u001b[K     |███████████████▎                | 20 kB 24.7 MB/s eta 0:00:01\r\u001b[K     |███████████████████████         | 30 kB 19.7 MB/s eta 0:00:01\r\u001b[K     |██████████████████████████████▋ | 40 kB 16.7 MB/s eta 0:00:01\r\u001b[K     |████████████████████████████████| 42 kB 1.1 MB/s \n",
            "\u001b[?25hInstalling collected packages: demoji\n",
            "Successfully installed demoji-1.1.0\n"
          ]
        }
      ]
    },
    {
      "cell_type": "code",
      "metadata": {
        "colab": {
          "base_uri": "https://localhost:8080/"
        },
        "id": "woTLrqGjm7Ic",
        "outputId": "c048b904-240d-46e2-9f93-3a85f5d20a6a"
      },
      "source": [
        "import demoji\n",
        " \n",
        "demoji.download_codes()"
      ],
      "execution_count": null,
      "outputs": [
        {
          "output_type": "stream",
          "name": "stderr",
          "text": [
            "/usr/local/lib/python3.7/dist-packages/ipykernel_launcher.py:3: FutureWarning: The demoji.download_codes attribute is deprecated and will be removed from demoji in a future version. It is an unused attribute as emoji codes are now distributed directly with the demoji package.\n",
            "  This is separate from the ipykernel package so we can avoid doing imports until\n"
          ]
        }
      ]
    },
    {
      "cell_type": "markdown",
      "metadata": {
        "id": "6FwFtz6CK5P-"
      },
      "source": [
        "**Main program**"
      ]
    },
    {
      "cell_type": "code",
      "metadata": {
        "colab": {
          "base_uri": "https://localhost:8080/"
        },
        "id": "BHlpp-uV_s_5",
        "outputId": "ecd28cf0-26fb-40b4-a296-353314bd8373"
      },
      "source": [
        "import re \n",
        "import tweepy \n",
        "from tweepy import OAuthHandler \n",
        "\n",
        "class TwitterClient(object): \n",
        "\t''' \n",
        "\tGeneric Twitter Class for sentiment analysis. \n",
        "\t'''\n",
        "\tdef __init__(self): \n",
        "\t\t''' \n",
        "\t\tClass constructor or initialization method. \n",
        "\t\t'''\n",
        "\t\t# keys and tokens from the Twitter Dev Console \n",
        "\t\tconsumer_key = 'fv1rLtlNAmnAnO6GEzP7JRjoA'\n",
        "\t\tconsumer_secret = 'z3wHb8LnTDsuk6zwxIUYQnni8mPANCZyRpfWKAFEpSrz7R2cze'\n",
        "\t\taccess_token = '454016013-y3XL4CRq5o9HvPPdcpMAg7Je631qvC6UypUvbW0B'\n",
        "\t\taccess_token_secret = 'KwCqxqzxDVAOuJ0fvRUrxHYgp9qxoXTs4szxTU3aBg6EK'\n",
        "\n",
        "\t\t# attempt authentication \n",
        "\t\ttry: \n",
        "\t\t\t# create OAuthHandler object \n",
        "\t\t\tself.auth = OAuthHandler(consumer_key, consumer_secret) \n",
        "\t\t\t# set access token and secret \n",
        "\t\t\tself.auth.set_access_token(access_token, access_token_secret) \n",
        "\t\t\t# create tweepy API object to fetch tweets \n",
        "\t\t\tself.api = tweepy.API(self.auth) \n",
        "\t\texcept: \n",
        "\t\t\tprint(\"Error: Authentication Failed\") \n",
        "\n",
        "\tdef clean_tweet(self, tweet): \n",
        "\t\t''' \n",
        "\t\tUtility function to clean tweet text by removing links, special characters \n",
        "\t\tusing simple regex statements. \n",
        "\t\t'''\n",
        "\t\treturn ' '.join(re.sub(\"(@[A-Za-z0-9]+)|([^0-9A-Za-z \\t])|(\\w+:\\/\\/\\S+)\", \" \", tweet[0]).split()) \n",
        "\n",
        "\n",
        "\tdef predict_sentiment(self, text):\n",
        "\t\ttext = self.clean_tweet(text)\n",
        "\t\t# print(\"\\nI'm the cleaned text: \", text)\n",
        "\n",
        "\t\t# preprocessing the given text \n",
        "\t\ttext_seq = tokenizer.texts_to_sequences([text])\n",
        "\t\ttext_pad = pad_sequences(text_seq, maxlen=T)\n",
        "\n",
        "\t\t# predicting the class\n",
        "\t\tpredicted_sentiment = model.predict(text_pad).round()\n",
        "\t\t# print(\"the pred...,\", predicted_sentiment)\n",
        "\t\t\n",
        "\t\tif predicted_sentiment == 1.0:\n",
        "\t\t\treturn 'positive'\n",
        "\t\telse:\n",
        "\t\t\treturn 'negative'\n",
        "  \n",
        "\tdef get_tweets(self, query, count = 10): \n",
        "\n",
        "\t\t''' \n",
        "\t\tMain function to fetch tweets and parse them. \n",
        "\t\t'''\n",
        "\t\t# bucket for storing fetched tweets\n",
        "\t\tbucket = []\n",
        "\t\t# empty list to store parsed tweets, a dic which contains each tweet and its sentiment\n",
        "\t\ttweets = [] \n",
        "\n",
        "\t\ttry: \n",
        "\t\t\t# call twitter api to fetch tweets \n",
        "\t\t\tfetched_tweets = self.api.search(q = query, count = count)\n",
        "\t \n",
        "\t\t\tfor tweet in fetched_tweets:\n",
        "\t\t\t\temojis = ''.join(demoji.findall(tweet.text).values())\n",
        "\t\t\t\tbucket.append([tweet.text + emojis])\n",
        "\n",
        "\n",
        "\t\t\t# parsing tweets one by one \n",
        "\t\t\tfor tweet in bucket: \n",
        "\t\t\t\t# empty dictionary to store required params of a tweet \n",
        "\t\t\t\tparsed_tweet = {} \n",
        "\n",
        "\t\t\t\t# saving text of tweet \n",
        "\t\t\t\tparsed_tweet['text'] = tweet \n",
        "\t\t\t\t# saving sentiment of tweet \n",
        "\t\t\t\tparsed_tweet['sentiment'] = self.predict_sentiment(tweet) \n",
        "\t\t\t\t# appending parsed tweet to tweets list \n",
        "\t\t\t\t\n",
        "\t\t\t\t\n",
        "\t\t\t\ttweets.append(parsed_tweet)\n",
        "\n",
        "\t\t\t# return parsed tweets \n",
        "\t\t\treturn tweets \n",
        "\n",
        "\t\texcept tweepy.TweepError as e: \n",
        "\t\t\t# print error (if any) \n",
        "\t\t\tprint(\"Error : \" + str(e)) \n",
        "\n",
        "\n",
        "\tdef oldget_tweets(self, query, count = 10): \n",
        "\n",
        "\t\tbucket = []\n",
        "\t\t\n",
        "\t\t''' \n",
        "\t\tMain function to fetch tweets and parse them. \n",
        "\t\t'''\n",
        "\t\t# empty list to store parsed tweets \n",
        "\t\ttweets = [] \n",
        "\n",
        "\t\ttry: \n",
        "\t\t\t# call twitter api to fetch tweets \n",
        "\t\t\tfetched_tweets = self.api.search(q = query, count = count) \n",
        "\n",
        "\t\t\t# parsing tweets one by one \n",
        "\t\t\tfor tweet in fetched_tweets: \n",
        "\t\t\t\t# empty dictionary to store required params of a tweet \n",
        "\t\t\t\tparsed_tweet = {} \n",
        "\n",
        "\t\t\t\t# saving text of tweet \n",
        "\t\t\t\tparsed_tweet['text'] = tweet.text \n",
        "\t\t\t\t# saving sentiment of tweet \n",
        "\t\t\t\tparsed_tweet['sentiment'] = self.predict_sentiment(tweet.text) \n",
        "\t\t\t\t# appending parsed tweet to tweets list \n",
        "\t\t\t\tif tweet.retweet_count > 0: \n",
        "\t\t\t\t\t# if tweet has retweets, ensure that it is appended only once \n",
        "\t\t\t\t\tif parsed_tweet not in tweets: \n",
        "\t\t\t\t\t\ttweets.append(parsed_tweet) \n",
        "\t\t\t\telse: \n",
        "\t\t\t\t\ttweets.append(parsed_tweet)\n",
        "\n",
        "\t\t\t# return parsed tweets \n",
        "\t\t\treturn tweets \n",
        "\n",
        "\t\texcept tweepy.TweepError as e: \n",
        "\t\t\t# print error (if any) \n",
        "\t\t\tprint(\"Error : \" + str(e)) \n",
        "\t \n",
        "#@title Input movie title to perform sentiment analysis on\n",
        "def main(): \n",
        "\t# creating object of TwitterClient Class \n",
        "\tapi = TwitterClient() \n",
        "\t# calling function to get tweets \n",
        "\tTitle = 'the umbrella academy' #@param {type: \"string\"}\n",
        "\ttweets = api.get_tweets(query = Title, count = 50) \n",
        "\n",
        "\t# picking positive tweets from tweets \n",
        "\tptweets = [tweet for tweet in tweets if tweet['sentiment'] == 'positive'] \n",
        "\t# percentage of positive tweets \n",
        "\tprint(\"Positive tweets percentage: {} %\".format(100*len(ptweets)/len(tweets))) \n",
        "\t# picking negative tweets from tweets \n",
        "\tntweets = [tweet for tweet in tweets if tweet['sentiment'] == 'negative'] \n",
        "\t# percentage of negative tweets \n",
        "\tprint(\"Negative tweets percentage: {} %\".format(100*len(ntweets)/len(tweets))) \n",
        "\n",
        "\t# printing first 5 positive tweets \n",
        "\t# print(\"\\n\\nPositive tweets:\") \n",
        "\t# for tweet in ptweets[:5]: \n",
        "\t# \tprint(tweet['text']) \n",
        "\n",
        "\t# # printing first 5 negative tweets \n",
        "\t# print(\"\\n\\nNegative tweets:\") \n",
        "\t# for tweet in ntweets[:5]: \n",
        "\t# \tprint(tweet['text']) \n",
        "\n",
        "if __name__ == \"__main__\": \n",
        "\t# calling main function \n",
        "\tmain() "
      ],
      "execution_count": null,
      "outputs": [
        {
          "output_type": "stream",
          "name": "stdout",
          "text": [
            "WARNING:tensorflow:Model was constructed with shape (None, 1291) for input KerasTensor(type_spec=TensorSpec(shape=(None, 1291), dtype=tf.float32, name='embedding_2_input'), name='embedding_2_input', description=\"created by layer 'embedding_2_input'\"), but it was called on an input with incompatible shape (None, 2473).\n"
          ]
        },
        {
          "output_type": "stream",
          "name": "stderr",
          "text": [
            "WARNING:tensorflow:Model was constructed with shape (None, 1291) for input KerasTensor(type_spec=TensorSpec(shape=(None, 1291), dtype=tf.float32, name='embedding_2_input'), name='embedding_2_input', description=\"created by layer 'embedding_2_input'\"), but it was called on an input with incompatible shape (None, 2473).\n"
          ]
        },
        {
          "output_type": "stream",
          "name": "stdout",
          "text": [
            "Positive tweets percentage: 62.0 %\n",
            "Negative tweets percentage: 38.0 %\n"
          ]
        }
      ]
    }
  ]
}